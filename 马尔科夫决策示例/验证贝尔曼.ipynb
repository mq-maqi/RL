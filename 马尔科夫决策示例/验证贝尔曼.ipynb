{
 "cells": [
  {
   "cell_type": "code",
   "execution_count": 125,
   "metadata": {
    "collapsed": true
   },
   "outputs": [],
   "source": [
    "# 导入工具函数：根据状态和行为生成操作相关字典的键，显示字典的内容\n",
    "from utils import str_key,display_dict\n",
    "# 设置转移概率、奖励值以及读取方式\n",
    "from utils import set_prob,set_reward,get_prob,get_reward\n",
    "# 设置状态价值、策略概率以及读取它们的方法\n",
    "from utils import set_value,set_pi,get_value,get_pi"
   ]
  },
  {
   "cell_type": "code",
   "execution_count": 126,
   "outputs": [
    {
     "name": "stdout",
     "output_type": "stream",
     "text": [
      "(['浏览手机中', '第一节课', '第二节课', '第三节课', '休息中'], ['浏览手机', '学习', '离开浏览', '泡吧', '退出学习'], {'浏览手机中_浏览手机': -1, '浏览手机中_离开浏览': 0, '第一节课_浏览手机': -1, '第一节课_学习': -2, '第二节课_学习': -2, '第二节课_退出学习': 0, '第三节课_学习': 10, '第三节课_泡吧': 1}, {'浏览手机中_浏览手机_浏览手机中': 1.0, '浏览手机中_离开浏览_第一节课': 1.0, '第一节课_浏览手机_浏览手机中': 1.0, '第一节课_学习_第二节课': 1.0, '第二节课_学习_第三节课': 1.0, '第二节课_退出学习_休息中': 1.0, '第三节课_学习_休息中': 1.0, '第三节课_泡吧_第一节课': 0.2, '第三节课_泡吧_第二节课': 0.4, '第三节课_泡吧_第三节课': 0.4}, 1.0)\n"
     ]
    }
   ],
   "source": [
    "# 构建马尔科夫环境\n",
    "S = ['浏览手机中', '第一节课', '第二节课', '第三节课', '休息中']\n",
    "A = ['浏览手机', '学习', '离开浏览', '泡吧', '退出学习']\n",
    "R = {} # 奖励字典\n",
    "P = {} # 状态概率转移字典\n",
    "gamma = 1.0 # 衰减因子\n",
    "# 根据示例数据设置状态转移概率和奖励，默认概率为1\n",
    "set_prob(P, S[0], A[0], S[0]) # 浏 览 手 机 中 - 浏 览 手 机 -> 浏 览 手 机 中\n",
    "set_prob(P, S[0], A[2], S[1]) # 浏 览 手 机 中 - 离 开 浏 览 -> 第 一 节 课\n",
    "set_prob(P, S[1], A[0], S[0]) # 第 一 节 课 - 浏 览 手 机 -> 浏 览 手 机 中\n",
    "set_prob(P, S[1], A[1], S[2]) # 第 一 节 课 - 学 习 -> 第 二 节 课\n",
    "set_prob(P, S[2], A[1], S[3]) # 第 二 节 课 - 学 习 -> 第 三 节 课\n",
    "set_prob(P, S[2], A[4], S[4]) # 第 二 节 课 - 退 出 学 习 -> 退 出 休 息\n",
    "set_prob(P, S[3], A[1], S[4]) # 第 三 节 课 - 学 习 -> 退 出 休 息\n",
    "set_prob(P, S[3], A[3], S[1], p = 0.2) # 第 三 节 课 - 泡 吧 -> 第 一 节 课\n",
    "set_prob(P, S[3], A[3], S[2], p = 0.4) # 第 三 节 课 - 泡 吧 -> 第 二 节 课\n",
    "set_prob(P, S[3], A[3], S[3], p = 0.4) # 第 三 节 课 - 泡 吧 -> 第 三 节 课\n",
    "\n",
    "set_reward(R, S[0], A[0], -1) # 浏 览 手 机 中 - 浏 览 手 机 -> -1\n",
    "set_reward(R, S[0], A[2], 0) # 浏 览 手 机 中 - 离 开 浏 览 -> 0\n",
    "set_reward(R, S[1], A[0], -1) # 第 一 节 课 - 浏 览 手 机 -> -1\n",
    "set_reward(R, S[1], A[1], -2) # 第 一 节 课 - 学 习 -> -2\n",
    "set_reward(R, S[2], A[1], -2) # 第 二 节 课 - 学 习 -> -2\n",
    "set_reward(R, S[2], A[4], 0) # 第 二 节 课 - 退 出 学 习 -> 0\n",
    "set_reward(R, S[3], A[1], 10) # 第 三 节 课 - 学 习 -> 10\n",
    "set_reward(R, S[3], A[3], 1) # 第 三 节 课 - 泡 吧 -> +1\n",
    "\n",
    "MDP = (S, A, R, P, gamma)\n",
    "print(MDP)"
   ],
   "metadata": {
    "collapsed": false,
    "pycharm": {
     "name": "#%%\n"
    }
   }
  },
  {
   "cell_type": "code",
   "execution_count": 127,
   "outputs": [
    {
     "name": "stdout",
     "output_type": "stream",
     "text": [
      "----状 态 转 移 概 率 字 典 （矩 阵） 信 息:----\n",
      "浏览手机中_浏览手机_浏览手机中: 1.00\n",
      "\n",
      "浏览手机中_离开浏览_第一节课: 1.00\n",
      "\n",
      "第一节课_浏览手机_浏览手机中: 1.00\n",
      "\n",
      "第一节课_学习_第二节课: 1.00\n",
      "\n",
      "第二节课_学习_第三节课: 1.00\n",
      "\n",
      "第二节课_退出学习_休息中: 1.00\n",
      "\n",
      "第三节课_学习_休息中: 1.00\n",
      "\n",
      "第三节课_泡吧_第一节课: 0.20\n",
      "\n",
      "第三节课_泡吧_第二节课: 0.40\n",
      "\n",
      "第三节课_泡吧_第三节课: 0.40\n",
      "\n",
      "----奖 励 字 典 （函 数） 信 息:----\n",
      "浏览手机中_浏览手机: -1.00\n",
      "\n",
      "浏览手机中_离开浏览: 0.00\n",
      "\n",
      "第一节课_浏览手机: -1.00\n",
      "\n",
      "第一节课_学习: -2.00\n",
      "\n",
      "第二节课_学习: -2.00\n",
      "\n",
      "第二节课_退出学习: 0.00\n",
      "\n",
      "第三节课_学习: 10.00\n",
      "\n",
      "第三节课_泡吧: 1.00\n",
      "\n"
     ]
    }
   ],
   "source": [
    "print(\"----状 态 转 移 概 率 字 典 （矩 阵） 信 息:----\")\n",
    "display_dict(P)\n",
    "print(\"----奖 励 字 典 （函 数） 信 息:----\")\n",
    "display_dict(R)"
   ],
   "metadata": {
    "collapsed": false,
    "pycharm": {
     "name": "#%%\n"
    }
   }
  },
  {
   "cell_type": "code",
   "execution_count": 128,
   "outputs": [],
   "source": [
    "# 使用随机策略，初始条件下所有状态的价值设为0，与状态转移概率和奖励函数一样，策略与价值也通过一个字典来维护\n",
    "# S = ['浏览手机中', '第一节课', '第二节课', '第三节课', '休息中']\n",
    "# A = ['浏览手机', '学习', '离开浏览', '泡吧', '退出学习']\n",
    "# 设 置 行 为 策 略： pi(a|.) = 0.5\n",
    "Pi = {}\n",
    "set_pi(Pi, S[0], A[0], 0.5)  # 浏 览 手 机 中 - 浏 览 手 机\n",
    "set_pi(Pi, S[0], A[2], 0.5) # 浏 览 手 机 中 - 离 开 浏 览\n",
    "set_pi(Pi, S[1], A[0], 0.5) # 第 一 节 课 - 浏 览 手 机\n",
    "set_pi(Pi, S[1], A[1], 0.5) # 第 一 节 课 - 学 习\n",
    "set_pi(Pi, S[2], A[1], 0.5) # 第 二 节 课 - 学 习\n",
    "set_pi(Pi, S[2], A[4], 0.5) # 第 二 节 课 - 退 出 学 习\n",
    "set_pi(Pi, S[3], A[1], 0.5) # 第 三 节 课 - 学 习\n",
    "set_pi(Pi, S[3], A[3], 0.5) # 第 三 节 课 - 泡 吧"
   ],
   "metadata": {
    "collapsed": false,
    "pycharm": {
     "name": "#%%\n"
    }
   }
  },
  {
   "cell_type": "code",
   "execution_count": 129,
   "outputs": [
    {
     "name": "stdout",
     "output_type": "stream",
     "text": [
      "----策 略 字 典 （矩 阵） 信 息:----\n",
      "浏览手机中_浏览手机: 0.50\n",
      "\n",
      "浏览手机中_离开浏览: 0.50\n",
      "\n",
      "第一节课_浏览手机: 0.50\n",
      "\n",
      "第一节课_学习: 0.50\n",
      "\n",
      "第二节课_学习: 0.50\n",
      "\n",
      "第二节课_退出学习: 0.50\n",
      "\n",
      "第三节课_学习: 0.50\n",
      "\n",
      "第三节课_泡吧: 0.50\n",
      "\n",
      "----状 态 价 值 字 典 （矩 阵） 信 息:----\n"
     ]
    }
   ],
   "source": [
    "print(\"----策 略 字 典 （矩 阵） 信 息:----\")\n",
    "display_dict(Pi)\n",
    "# 初 始 时 价 值 为 空， 访 问 时 会 返 回0\n",
    "print(\"----状 态 价 值 字 典 （矩 阵） 信 息:----\")\n",
    "V = {}\n",
    "display_dict(V)"
   ],
   "metadata": {
    "collapsed": false,
    "pycharm": {
     "name": "#%%\n"
    }
   }
  },
  {
   "cell_type": "code",
   "execution_count": 130,
   "outputs": [],
   "source": [
    "def compute_q(MDP, V, s, a):\n",
    "    \"\"\"\n",
    "    根 据 给 定 的MDP， 价 值 函 数V， 计算某一状态s时的某行为a的价值q(s,a)\n",
    "    :param MDP:\n",
    "    :param V:\n",
    "    :param s:\n",
    "    :param a:\n",
    "    :return:\n",
    "    \"\"\"\n",
    "    S, A, R, P ,gamma = MDP\n",
    "    q_sa = get_reward(R,s,a)\n",
    "    for s_prime in S:\n",
    "        q_sa += gamma * get_prob(P, s, a, s_prime) * get_value(V, s_prime)\n",
    "    return q_sa\n",
    "\n",
    "def compute_v(MDP, V, Pi, s):\n",
    "    \"\"\"\n",
    "    给 定MDP下 依 据 某 一 策 略Pi和 当 前 状 态 价 值 函 数V计 算 某 状 态s的 价 值\n",
    "    :param MDP:\n",
    "    :param V:\n",
    "    :param Pi:\n",
    "    :param s:\n",
    "    :return:\n",
    "    \"\"\"\n",
    "    S, A, R, P, gamma = MDP\n",
    "    v_s = 0\n",
    "    for a in A:\n",
    "        v_s += get_pi(Pi, s, a) * compute_q(MDP, V, s, a)\n",
    "    return v_s"
   ],
   "metadata": {
    "collapsed": false,
    "pycharm": {
     "name": "#%%\n"
    }
   }
  },
  {
   "cell_type": "code",
   "execution_count": 131,
   "outputs": [
    {
     "name": "stdout",
     "output_type": "stream",
     "text": [
      "浏览手机中: -2.31\n",
      "\n",
      "第一节课: -1.31\n",
      "\n",
      "第二节课: 2.69\n",
      "\n",
      "第三节课: 7.38\n",
      "\n",
      "休息中: 0.00\n",
      "\n"
     ]
    }
   ],
   "source": [
    "def update_V(MDP, V, Pi):\n",
    "    \"\"\"\n",
    "    根 据 当 前  策 略 使 用 回 溯 法 来 更 新 状态 价 值\n",
    "    :param MDP:\n",
    "    :param V:\n",
    "    :param Pi:\n",
    "    :return:\n",
    "    \"\"\"\n",
    "    S, _, _, _, _ = MDP\n",
    "    V_prime = V.copy()\n",
    "    for s in S:\n",
    "        V_prime[str_key(s)] = compute_v(MDP, V_prime, Pi, s)\n",
    "    return V_prime\n",
    "\n",
    "def policy_evaluate(MDP, V, Pi, n):\n",
    "    \"\"\"\n",
    "    策 略 评 估， 得 到 该 策 略 下 最 终 的 状 态 价 值。\n",
    "    使 用n次 迭 代 计 算 来 评 估 一 个MDP在 给 定 策 略Pi下 的 状 态 价 值， 初 始 时 价 值 为V\n",
    "    :param MDP:\n",
    "    :param V:\n",
    "    :param Pi:\n",
    "    :param n:\n",
    "    :return:\n",
    "    \"\"\"\n",
    "    for i in range(n):\n",
    "        V = update_V(MDP, V, Pi)\n",
    "    return V\n",
    "\n",
    "V = policy_evaluate(MDP, V, Pi, 10000)\n",
    "display_dict(V)"
   ],
   "metadata": {
    "collapsed": false,
    "pycharm": {
     "name": "#%%\n"
    }
   }
  },
  {
   "cell_type": "code",
   "execution_count": 132,
   "outputs": [
    {
     "name": "stdout",
     "output_type": "stream",
     "text": [
      "第 三 节 课 在 当 前 策 略 下 的 最 终 价 值 为:7.38\n"
     ]
    }
   ],
   "source": [
    "# 计算均一随机策略下，状态“第三节课”的最终价值\n",
    "v = compute_v(MDP, V, Pi, \"第三节课\")\n",
    "print(\"第 三 节 课 在 当 前 策 略 下 的 最 终 价 值 为:{:.2f}\".format(v))"
   ],
   "metadata": {
    "collapsed": false,
    "pycharm": {
     "name": "#%%\n"
    }
   }
  },
  {
   "cell_type": "code",
   "execution_count": 133,
   "outputs": [],
   "source": [
    "def compute_v_from_max_q(MDP, V, s):\n",
    "    \"\"\"\n",
    "    根 据 一 个 状 态 的 下 所 有 可 能 的 行 为 价 值 中 最 大 一 个 来 确 定 当 前 状 态 价 值\n",
    "    :param MDP:\n",
    "    :param V:\n",
    "    :param s:\n",
    "    :return:\n",
    "    \"\"\"\n",
    "    S, A, R, P , gamma = MDP\n",
    "    v_s = -float('inf')\n",
    "    for a in A:\n",
    "        qsa = compute_q(MDP, V, s, a)\n",
    "        if qsa >= v_s:\n",
    "            v_s = qsa\n",
    "    return v_s"
   ],
   "metadata": {
    "collapsed": false,
    "pycharm": {
     "name": "#%%\n"
    }
   }
  },
  {
   "cell_type": "code",
   "execution_count": 134,
   "outputs": [
    {
     "name": "stdout",
     "output_type": "stream",
     "text": [
      "浏览手机中: 6.00\n",
      "\n",
      "第一节课: 6.00\n",
      "\n",
      "第二节课: 8.00\n",
      "\n",
      "第三节课: 10.00\n",
      "\n",
      "休息中: 0.00\n",
      "\n"
     ]
    }
   ],
   "source": [
    "def update_V_without_pi(MDP, V):\n",
    "    \"\"\"\n",
    "    在 不 依 赖 策 略 的 情 况 下 直 接 通 过 后 续 状 态 的 价 值 来 更 新 状 态 价 值\n",
    "    :param MDP:\n",
    "    :param V:\n",
    "    :return:\n",
    "    \"\"\"\n",
    "    S, _, _, _, _ = MDP\n",
    "    V_prime = V.copy()\n",
    "    for s in S:\n",
    "        # set_value(V_prime, s, compute_v_from_max_q(MDP, V_prime, s))\n",
    "        V_prime[str_key(s)] = compute_v_from_max_q(MDP, V_prime, s)\n",
    "    return V_prime\n",
    "\n",
    "def value_iterate(MDP, V, n):\n",
    "    \"\"\"\n",
    "    价值迭代\n",
    "    :param MDP:\n",
    "    :param V:\n",
    "    :param n:\n",
    "    :return:\n",
    "    \"\"\"\n",
    "    for i in range(n):\n",
    "        V = update_V_without_pi(MDP, V)\n",
    "    return V\n",
    "\n",
    "V= {}\n",
    "# 通过价值迭代得到最优状态价值\n",
    "V_star = value_iterate(MDP, V, 4)\n",
    "display_dict(V_star)"
   ],
   "metadata": {
    "collapsed": false,
    "pycharm": {
     "name": "#%%\n"
    }
   }
  },
  {
   "cell_type": "code",
   "execution_count": 138,
   "outputs": [
    {
     "name": "stdout",
     "output_type": "stream",
     "text": [
      "在状态第三节课选择行为泡吧的最优价值为:9.40\n"
     ]
    }
   ],
   "source": [
    "# 验 证 最 优 行 为 价 值\n",
    "s, a = \"第三节课\", \"泡吧\"\n",
    "q = compute_q(MDP, V_star, \"第三节课\", \"泡吧\")\n",
    "print(\"在状态{}选择行为{}的最优价值为:{:.2f}\".format(s,a,q))\n",
    "# 将 输 出 结 果：\n",
    "# 在 状 态 第 三 节 课 选 择 行 为 泡 吧 的 最 优 价 值 为:9.40"
   ],
   "metadata": {
    "collapsed": false,
    "pycharm": {
     "name": "#%%\n"
    }
   }
  },
  {
   "cell_type": "code",
   "execution_count": null,
   "outputs": [],
   "source": [],
   "metadata": {
    "collapsed": false,
    "pycharm": {
     "name": "#%%\n"
    }
   }
  }
 ],
 "metadata": {
  "kernelspec": {
   "name": "python3",
   "language": "python",
   "display_name": "Python 3 (ipykernel)"
  },
  "language_info": {
   "codemirror_mode": {
    "name": "ipython",
    "version": 2
   },
   "file_extension": ".py",
   "mimetype": "text/x-python",
   "name": "python",
   "nbconvert_exporter": "python",
   "pygments_lexer": "ipython2",
   "version": "2.7.6"
  }
 },
 "nbformat": 4,
 "nbformat_minor": 0
}