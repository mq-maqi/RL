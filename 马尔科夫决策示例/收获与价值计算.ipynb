{
 "cells": [
  {
   "cell_type": "code",
   "execution_count": 58,
   "metadata": {
    "collapsed": true
   },
   "outputs": [],
   "source": [
    "import numpy as np\n",
    "from typing import List"
   ]
  },
  {
   "cell_type": "code",
   "execution_count": 59,
   "outputs": [],
   "source": [
    "# 定义状态集合，数量为7\n",
    "num_states = 7\n",
    "i_to_n = {\"0\": \"C1\", \"1\":\"C2\", \"2\":\"C3\", \"3\":\"Pass\", \"4\":\"Pub\", \"5\":\"FB\", \"6\":\"Sleep\"}\n",
    "n_to_i = {v:int(k) for k,v in i_to_n.items()}\n",
    "\n",
    "# 定义状态转移矩阵\n",
    "# C1 C2 C3 Pass Pub FB Sleep\n",
    "Pss = [ # 状 态 转 移 概 率 矩 阵\n",
    "[ 0.0, 0.5, 0.0, 0.0, 0.0, 0.5, 0.0 ],\n",
    "[ 0.0, 0.0, 0.8, 0.0, 0.0, 0.0, 0.2 ],\n",
    "[ 0.0, 0.0, 0.0, 0.6, 0.4, 0.0, 0.0 ],\n",
    "[ 0.0, 0.0, 0.0, 0.0, 0.0, 0.0, 1.0 ],\n",
    "[ 0.2, 0.4, 0.4, 0.0, 0.0, 0.0, 0.0 ],\n",
    "[ 0.1, 0.0, 0.0, 0.0, 0.0, 0.9, 0.0 ],\n",
    "[ 0.0, 0.0, 0.0, 0.0, 0.0, 0.0, 1.0 ]\n",
    "]\n",
    "\n",
    "# 将二维列表转换为np的数组形式\n",
    "Pss = np.array(Pss)\n",
    "# 奖励函数，对应于7个状态\n",
    "rewards = [-2, -2, -2, 10, 1, -1, 0]\n",
    "# 衰减因子\n",
    "gamma = 0.5"
   ],
   "metadata": {
    "collapsed": false,
    "pycharm": {
     "name": "#%%\n"
    }
   }
  },
  {
   "cell_type": "code",
   "execution_count": 60,
   "outputs": [],
   "source": [
    "def compute_return(start_index=0,\n",
    "                   chain=None,\n",
    "                   gamma=0.5) -> float:\n",
    "    \"\"\"\n",
    "    计算一个马尔可夫过程中某个状态的奖励值\n",
    "    :param start_index: 要计算的状态在链中的位置\n",
    "    :param chain: 要计算的马尔可夫过程\n",
    "    :param gamma: 衰减系数\n",
    "    :return: 收获值\n",
    "    \"\"\"\n",
    "    retrn,power,gamma = 0,0,0.5\n",
    "    for i in range(start_index,len(chain)):\n",
    "        retrn += np.power(gamma,power)*rewards[n_to_i[chain[i]]]\n",
    "        power +=1\n",
    "    return retrn"
   ],
   "metadata": {
    "collapsed": false,
    "pycharm": {
     "name": "#%%\n"
    }
   }
  },
  {
   "cell_type": "code",
   "execution_count": 61,
   "outputs": [
    {
     "data": {
      "text/plain": "-3.196044921875"
     },
     "execution_count": 61,
     "metadata": {},
     "output_type": "execute_result"
    }
   ],
   "source": [
    "# 定义几条马尔科夫链，并计算收获值\n",
    "chains =[\n",
    "[\"C1\", \"C2\", \"C3\", \"Pass\", \"Sleep\"],\n",
    "[\"C1\", \"FB\", \"FB\", \"C1\", \"C2\", \"Sleep\"],\n",
    "[\"C1\", \"C2\", \"C3\", \"Pub\", \"C2\", \"C3\", \"Pass\", \"Sleep\"],\n",
    "[\"C1\", \"FB\", \"FB\", \"C1\", \"C2\", \"C3\", \"Pub\", \"C1\", \"FB\",\"FB\", \"FB\", \"C1\", \"C2\", \"C3\", \"Pub\", \"C2\", \"Sleep\"]\n",
    "]\n",
    "compute_return(0,chains[3],gamma=0.5)"
   ],
   "metadata": {
    "collapsed": false,
    "pycharm": {
     "name": "#%%\n"
    }
   }
  },
  {
   "cell_type": "code",
   "execution_count": 62,
   "outputs": [
    {
     "data": {
      "text/plain": "array([[-12.54073351],\n       [  1.45690179],\n       [  4.32117045],\n       [ 10.        ],\n       [  0.80308417],\n       [-22.53857963],\n       [  0.        ]])"
     },
     "execution_count": 62,
     "metadata": {},
     "output_type": "execute_result"
    }
   ],
   "source": [
    "def compute_value(Pss, rewards, gamma=0.05):\n",
    "    \"\"\"\n",
    "    通过求解矩阵方程的形式直接计算状态的价值\n",
    "    :param Pss: 状态转移概率矩阵 Shape(7,7)\n",
    "    :param rewards: 即时奖励\n",
    "    :param gamma: 衰减系数\n",
    "    :return: values各个状态的价值\n",
    "    \"\"\"\n",
    "    # 将rewards转换为numpy数组的形式，并修改为列向量\n",
    "    rewards = np.array(rewards).reshape((-1,1))\n",
    "    # np.eye(7,7)为单位矩阵，inv方法求矩阵的逆\n",
    "    values = np.dot(np.linalg.inv(np.eye(7,7) - gamma*Pss), rewards)\n",
    "    return values\n",
    "\n",
    "compute_value(Pss,rewards,gamma=0.99999)"
   ],
   "metadata": {
    "collapsed": false,
    "pycharm": {
     "name": "#%%\n"
    }
   }
  }
 ],
 "metadata": {
  "kernelspec": {
   "display_name": "Python 3",
   "language": "python",
   "name": "python3"
  },
  "language_info": {
   "codemirror_mode": {
    "name": "ipython",
    "version": 2
   },
   "file_extension": ".py",
   "mimetype": "text/x-python",
   "name": "python",
   "nbconvert_exporter": "python",
   "pygments_lexer": "ipython2",
   "version": "2.7.6"
  }
 },
 "nbformat": 4,
 "nbformat_minor": 0
}